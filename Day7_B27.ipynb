{
 "cells": [
  {
   "cell_type": "code",
   "execution_count": null,
   "metadata": {},
   "outputs": [],
   "source": [
    "introduction to conditional statement:"
   ]
  },
  {
   "cell_type": "code",
   "execution_count": null,
   "metadata": {},
   "outputs": [],
   "source": [
    "1. if\n",
    "2.if else\n",
    "3. elif"
   ]
  },
  {
   "cell_type": "code",
   "execution_count": null,
   "metadata": {},
   "outputs": [],
   "source": [
    "case study: building a voting application"
   ]
  },
  {
   "cell_type": "code",
   "execution_count": null,
   "metadata": {},
   "outputs": [],
   "source": [
    "age criteria- 18 or morethan that ====> to get the voting right"
   ]
  },
  {
   "cell_type": "code",
   "execution_count": 4,
   "metadata": {},
   "outputs": [],
   "source": [
    "age = 22"
   ]
  },
  {
   "cell_type": "code",
   "execution_count": 5,
   "metadata": {},
   "outputs": [
    {
     "name": "stdout",
     "output_type": "stream",
     "text": [
      "you are eligible to vote\n"
     ]
    }
   ],
   "source": [
    "if age >= 18:\n",
    "    print ('you are eligible to vote')\n",
    "else:\n",
    "        print('you are not eligible to vote try next year')\n",
    "    "
   ]
  },
  {
   "cell_type": "code",
   "execution_count": 6,
   "metadata": {},
   "outputs": [],
   "source": [
    "age = 15"
   ]
  },
  {
   "cell_type": "code",
   "execution_count": 7,
   "metadata": {},
   "outputs": [
    {
     "name": "stdout",
     "output_type": "stream",
     "text": [
      "you are not eligible to vote try next year\n"
     ]
    }
   ],
   "source": [
    "if age >= 18:\n",
    "    print ('you are eligible to vote')\n",
    "else:\n",
    "        print('you are not eligible to vote try next year')"
   ]
  },
  {
   "cell_type": "code",
   "execution_count": null,
   "metadata": {},
   "outputs": [],
   "source": [
    "req: baby growth:"
   ]
  },
  {
   "cell_type": "code",
   "execution_count": null,
   "metadata": {},
   "outputs": [],
   "source": [
    "baby - 1year - crawl\n",
    "baby - 2year - stand\n",
    "baby - 3 year - walk\n",
    "baby - 4year - run"
   ]
  },
  {
   "cell_type": "code",
   "execution_count": 14,
   "metadata": {},
   "outputs": [
    {
     "name": "stdout",
     "output_type": "stream",
     "text": [
      "baby will be able to run\n"
     ]
    }
   ],
   "source": [
    "if age == 1:\n",
    "    print('baby will be able to crawl')\n",
    "elif age ==2:\n",
    "    print('baby will be able to stand')\n",
    "elif age ==3:\n",
    "    print('baby will be able to walk')\n",
    "else:\n",
    "    print('baby will be able to run')"
   ]
  },
  {
   "cell_type": "code",
   "execution_count": 25,
   "metadata": {},
   "outputs": [],
   "source": [
    "age = 3"
   ]
  },
  {
   "cell_type": "code",
   "execution_count": 26,
   "metadata": {},
   "outputs": [
    {
     "name": "stdout",
     "output_type": "stream",
     "text": [
      "baby will be able to walk\n"
     ]
    }
   ],
   "source": [
    "if age == 1:\n",
    "    print('baby will be able to crawl')\n",
    "elif age ==2:\n",
    "    print('baby will be able to stand')\n",
    "elif age ==3:\n",
    "    print('baby will be able to walk')\n",
    "else:\n",
    "    print('baby will be able to run')"
   ]
  },
  {
   "cell_type": "code",
   "execution_count": 27,
   "metadata": {},
   "outputs": [],
   "source": [
    "age = 1"
   ]
  },
  {
   "cell_type": "code",
   "execution_count": 28,
   "metadata": {},
   "outputs": [
    {
     "name": "stdout",
     "output_type": "stream",
     "text": [
      "baby will be able to crawl\n"
     ]
    }
   ],
   "source": [
    "if age == 1:\n",
    "    print('baby will be able to crawl')\n",
    "elif age ==2:\n",
    "    print('baby will be able to stand')\n",
    "elif age ==3:\n",
    "    print('baby will be able to walk')\n",
    "else:\n",
    "    print('baby will be able to run')"
   ]
  },
  {
   "cell_type": "code",
   "execution_count": null,
   "metadata": {},
   "outputs": [],
   "source": []
  }
 ],
 "metadata": {
  "kernelspec": {
   "display_name": "Python 3",
   "language": "python",
   "name": "python3"
  },
  "language_info": {
   "codemirror_mode": {
    "name": "ipython",
    "version": 3
   },
   "file_extension": ".py",
   "mimetype": "text/x-python",
   "name": "python",
   "nbconvert_exporter": "python",
   "pygments_lexer": "ipython3",
   "version": "3.7.6"
  }
 },
 "nbformat": 4,
 "nbformat_minor": 4
}
