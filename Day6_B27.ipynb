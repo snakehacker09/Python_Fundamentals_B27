{
 "cells": [
  {
   "cell_type": "code",
   "execution_count": null,
   "metadata": {},
   "outputs": [],
   "source": [
    "intrduction to looping statement:"
   ]
  },
  {
   "cell_type": "code",
   "execution_count": 1,
   "metadata": {},
   "outputs": [],
   "source": [
    "students = ['ravi','shayam','ritu','muskan','vrinda','ratan']"
   ]
  },
  {
   "cell_type": "code",
   "execution_count": null,
   "metadata": {},
   "outputs": [],
   "source": [
    "req: i want to appreciate all the students who are present in the above list individually"
   ]
  },
  {
   "cell_type": "code",
   "execution_count": 3,
   "metadata": {},
   "outputs": [
    {
     "name": "stdout",
     "output_type": "stream",
     "text": [
      "keep up the good work, Ravi\n"
     ]
    }
   ],
   "source": [
    "print(f\"keep up the good work, {students[0].title()}\")"
   ]
  },
  {
   "cell_type": "code",
   "execution_count": 4,
   "metadata": {},
   "outputs": [
    {
     "name": "stdout",
     "output_type": "stream",
     "text": [
      "keep up the good work, Muskan\n"
     ]
    }
   ],
   "source": [
    "print(f\"keep up the good work, {students[3].title()}\")"
   ]
  },
  {
   "cell_type": "code",
   "execution_count": 7,
   "metadata": {},
   "outputs": [
    {
     "name": "stdout",
     "output_type": "stream",
     "text": [
      "keep up the good work, Ravi\n",
      "keep up the good work, Shayam\n",
      "keep up the good work, Ritu\n",
      "keep up the good work, Muskan\n",
      "keep up the good work, Vrinda\n",
      "keep up the good work, Ratan\n"
     ]
    }
   ],
   "source": [
    "for x in students:\n",
    "    print(f\"keep up the good work, {x.title()}\")"
   ]
  },
  {
   "cell_type": "code",
   "execution_count": 8,
   "metadata": {},
   "outputs": [
    {
     "name": "stdout",
     "output_type": "stream",
     "text": [
      "keep up the good work, Ravi.\n",
      "\n",
      "keep up the good work, Shayam.\n",
      "\n",
      "keep up the good work, Ritu.\n",
      "\n",
      "keep up the good work, Muskan.\n",
      "\n",
      "keep up the good work, Vrinda.\n",
      "\n",
      "keep up the good work, Ratan.\n",
      "\n"
     ]
    }
   ],
   "source": [
    "for x in students:\n",
    "    print(f\"keep up the good work, {x.title()}.\\n\")"
   ]
  },
  {
   "cell_type": "code",
   "execution_count": null,
   "metadata": {},
   "outputs": [],
   "source": [
    "introduction to for loops:"
   ]
  },
  {
   "cell_type": "code",
   "execution_count": null,
   "metadata": {},
   "outputs": [],
   "source": [
    "for tempvar in mainvar:\n",
    "    print(tempvar)"
   ]
  },
  {
   "cell_type": "code",
   "execution_count": null,
   "metadata": {},
   "outputs": [],
   "source": [
    "req: i want to wish them good luck"
   ]
  },
  {
   "cell_type": "code",
   "execution_count": 9,
   "metadata": {},
   "outputs": [
    {
     "name": "stdout",
     "output_type": "stream",
     "text": [
      "keep up the good work, Ravi.\n",
      "\n",
      "all the best for your future, Ravi.\n",
      "\n",
      "keep up the good work, Shayam.\n",
      "\n",
      "all the best for your future, Shayam.\n",
      "\n",
      "keep up the good work, Ritu.\n",
      "\n",
      "all the best for your future, Ritu.\n",
      "\n",
      "keep up the good work, Muskan.\n",
      "\n",
      "all the best for your future, Muskan.\n",
      "\n",
      "keep up the good work, Vrinda.\n",
      "\n",
      "all the best for your future, Vrinda.\n",
      "\n",
      "keep up the good work, Ratan.\n",
      "\n",
      "all the best for your future, Ratan.\n",
      "\n"
     ]
    }
   ],
   "source": [
    "for x in students:\n",
    "    print(f\"keep up the good work, {x.title()}.\\n\")\n",
    "    print(f\"all the best for your future, {x.title()}.\\n\")"
   ]
  },
  {
   "cell_type": "code",
   "execution_count": 10,
   "metadata": {},
   "outputs": [
    {
     "name": "stdout",
     "output_type": "stream",
     "text": [
      "keep up the good work, Ravi\n",
      "all the best for your future, Ravi.\n",
      "\n",
      "keep up the good work, Shayam\n",
      "all the best for your future, Shayam.\n",
      "\n",
      "keep up the good work, Ritu\n",
      "all the best for your future, Ritu.\n",
      "\n",
      "keep up the good work, Muskan\n",
      "all the best for your future, Muskan.\n",
      "\n",
      "keep up the good work, Vrinda\n",
      "all the best for your future, Vrinda.\n",
      "\n",
      "keep up the good work, Ratan\n",
      "all the best for your future, Ratan.\n",
      "\n"
     ]
    }
   ],
   "source": [
    "for x in students:\n",
    "    print(f\"keep up the good work, {x.title()}\")\n",
    "    print(f\"all the best for your future, {x.title()}.\\n\")"
   ]
  },
  {
   "cell_type": "code",
   "execution_count": null,
   "metadata": {},
   "outputs": [],
   "source": []
  }
 ],
 "metadata": {
  "kernelspec": {
   "display_name": "Python 3",
   "language": "python",
   "name": "python3"
  },
  "language_info": {
   "codemirror_mode": {
    "name": "ipython",
    "version": 3
   },
   "file_extension": ".py",
   "mimetype": "text/x-python",
   "name": "python",
   "nbconvert_exporter": "python",
   "pygments_lexer": "ipython3",
   "version": "3.7.6"
  }
 },
 "nbformat": 4,
 "nbformat_minor": 4
}
