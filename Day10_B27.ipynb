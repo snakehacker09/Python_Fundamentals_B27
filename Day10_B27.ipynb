{
 "cells": [
  {
   "cell_type": "code",
   "execution_count": null,
   "metadata": {},
   "outputs": [],
   "source": [
    "MOCK INTERVIEW:-"
   ]
  },
  {
   "cell_type": "code",
   "execution_count": null,
   "metadata": {},
   "outputs": [],
   "source": [
    "1. what is a String?\n",
    "\n",
    "Ans- A string is nothing but series of characters, which we can define through single quote, doble quote and triple quote.\n",
    "     its a immutable dadatype\n",
    "    \n",
    "2. what is the uses of 'F' string?\n",
    "\n",
    "Ans- it is a referencing points to the variables that are declared earlier\n",
    "\n",
    "3.what is a List?\n",
    "\n",
    "Ans- a list is a collection of item in a particular order. basically is is define in a [] brackets.\n",
    "     its a mutable datatype.\n",
    "    \n",
    "4.what is the syntax of a for loop?\n",
    "\n",
    "Ans- for tempvar in mainvar\n",
    "        print(tempvar)\n",
    "    \n",
    "5.what is the difference between sort and sorted?\n",
    "\n",
    "Ans- both are using for organising the list. sort is for permanent changes whereas sorted use for temporary changes\n",
    "\n",
    "6.what is a Tuple datatype?\n",
    "\n",
    "Ans- Tuple is a collection of objects which ordered and immutable basically we are difine it as ()parentheses.\n",
    "\n",
    "7.explain the concept of conditional statement.\n",
    "\n",
    "Ans- used to perform different computations, we are 3 types of conditionslike if, if else and elif.\n",
    "\n",
    "8. what is the string method to use the below syntax to make it proper formart?\n",
    "   name = 'ravi jha'\n",
    "    \n",
    "Ans- print(name.title())\n",
    "\n",
    "9.students = ['a','b','c','d']------ what is the method to get total counts?\n",
    "\n",
    "Ans- len(students)\n",
    "\n",
    "10.student 'e' i want to add what is the method i need to use in the list.\n",
    "\n",
    "Ans- we can use .append method to added in to list.\n",
    "\n",
    "11.student 'g' i want to add in the 2nd index position...\n",
    "\n",
    "Ans- we can use .insert method to add in to any index position.\n",
    "\n",
    "12.what is the difference between Append and Insert method?\n",
    "\n",
    "Ans- bot we are using for add elements in the list. append will be added in to default last position whereas Insert method used for any custom position.\n",
    "\n",
    "13.difference between list and tuple?\n",
    "\n",
    "Ans-list are mutable while Tuple are immutable. list is define in []square bracket whereas Tuple is define in () parentheses.\n",
    "\n",
    "14. what is dictionary.\n",
    "\n",
    "Ans- a dictionary is a combination of key value pairs\n"
   ]
  },
  {
   "cell_type": "code",
   "execution_count": null,
   "metadata": {},
   "outputs": [],
   "source": []
  },
  {
   "cell_type": "code",
   "execution_count": null,
   "metadata": {},
   "outputs": [],
   "source": []
  },
  {
   "cell_type": "code",
   "execution_count": null,
   "metadata": {},
   "outputs": [],
   "source": []
  },
  {
   "cell_type": "code",
   "execution_count": null,
   "metadata": {},
   "outputs": [],
   "source": []
  },
  {
   "cell_type": "code",
   "execution_count": null,
   "metadata": {},
   "outputs": [],
   "source": []
  }
 ],
 "metadata": {
  "kernelspec": {
   "display_name": "Python 3",
   "language": "python",
   "name": "python3"
  },
  "language_info": {
   "codemirror_mode": {
    "name": "ipython",
    "version": 3
   },
   "file_extension": ".py",
   "mimetype": "text/x-python",
   "name": "python",
   "nbconvert_exporter": "python",
   "pygments_lexer": "ipython3",
   "version": "3.7.6"
  }
 },
 "nbformat": 4,
 "nbformat_minor": 4
}
