{
 "cells": [
  {
   "cell_type": "code",
   "execution_count": null,
   "metadata": {},
   "outputs": [],
   "source": [
    "Implimentation of looping dictionaries:"
   ]
  },
  {
   "cell_type": "code",
   "execution_count": null,
   "metadata": {},
   "outputs": [],
   "source": [
    "req: students survey poll of their favorite prog language on a college."
   ]
  },
  {
   "cell_type": "code",
   "execution_count": 15,
   "metadata": {},
   "outputs": [],
   "source": [
    "favorite_language = {\n",
    "    'sam':'python',\n",
    "    'shafi':'c',\n",
    "    'ram':'c++',\n",
    "    'pradeepa':'swift',\n",
    "    'ritu':'java',\n",
    "}"
   ]
  },
  {
   "cell_type": "code",
   "execution_count": 16,
   "metadata": {},
   "outputs": [
    {
     "name": "stdout",
     "output_type": "stream",
     "text": [
      "{'sam': 'python', 'shafi': 'c', 'ram': 'c++', 'pradeepa': 'swift', 'ritu': 'java'}\n"
     ]
    }
   ],
   "source": [
    "print(favorite_language)"
   ]
  },
  {
   "cell_type": "code",
   "execution_count": 12,
   "metadata": {},
   "outputs": [
    {
     "data": {
      "text/plain": [
       "dict"
      ]
     },
     "execution_count": 12,
     "metadata": {},
     "output_type": "execute_result"
    }
   ],
   "source": [
    "type(favorite_language)"
   ]
  },
  {
   "cell_type": "code",
   "execution_count": null,
   "metadata": {},
   "outputs": [],
   "source": [
    "req: to see what sam has selected languages?"
   ]
  },
  {
   "cell_type": "code",
   "execution_count": 15,
   "metadata": {},
   "outputs": [],
   "source": [
    "language = favorite_language['sam'].title()\n"
   ]
  },
  {
   "cell_type": "code",
   "execution_count": 16,
   "metadata": {},
   "outputs": [
    {
     "name": "stdout",
     "output_type": "stream",
     "text": [
      "sam's favorite language is Python.\n"
     ]
    }
   ],
   "source": [
    " print(f\"sam's favorite language is {language}.\")"
   ]
  },
  {
   "cell_type": "code",
   "execution_count": 17,
   "metadata": {},
   "outputs": [],
   "source": [
    "x = favorite_language['ritu'].title()"
   ]
  },
  {
   "cell_type": "code",
   "execution_count": 19,
   "metadata": {},
   "outputs": [
    {
     "name": "stdout",
     "output_type": "stream",
     "text": [
      "ritu's favorite language is Java.\n"
     ]
    }
   ],
   "source": [
    "print(f\"ritu's favorite language is {x}.\")"
   ]
  },
  {
   "cell_type": "code",
   "execution_count": 6,
   "metadata": {},
   "outputs": [],
   "source": [
    "user_0 = {'username':'papibadatya96',\n",
    "         'first':'papi',\n",
    "         'last':'badatya',\n",
    "         'dob':'22-05-1996'}"
   ]
  },
  {
   "cell_type": "code",
   "execution_count": 7,
   "metadata": {},
   "outputs": [
    {
     "name": "stdout",
     "output_type": "stream",
     "text": [
      "{'username': 'papibadatya96', 'first': 'papi', 'last': 'badatya', 'dob': '22-05-1996'}\n"
     ]
    }
   ],
   "source": [
    "print(user_0)"
   ]
  },
  {
   "cell_type": "code",
   "execution_count": null,
   "metadata": {},
   "outputs": [],
   "source": [
    "#general syntax of for loop\n",
    "\n",
    "for tempvar in mainvar:\n",
    "    print(tempvar)"
   ]
  },
  {
   "cell_type": "code",
   "execution_count": null,
   "metadata": {},
   "outputs": [],
   "source": [
    "# dict implimentation----> key value\n",
    "\n",
    "for tempvar1, tempvar2 in mainvar.item():\n",
    "    print(tempvar1)\n",
    "    print(tempvar2)\n"
   ]
  },
  {
   "cell_type": "code",
   "execution_count": 8,
   "metadata": {},
   "outputs": [
    {
     "name": "stdout",
     "output_type": "stream",
     "text": [
      "{'username': 'papibadatya96', 'first': 'papi', 'last': 'badatya', 'dob': '22-05-1996'}\n"
     ]
    }
   ],
   "source": [
    "print(user_0)"
   ]
  },
  {
   "cell_type": "code",
   "execution_count": 9,
   "metadata": {},
   "outputs": [
    {
     "name": "stdout",
     "output_type": "stream",
     "text": [
      "username\n",
      "papibadatya96\n",
      "first\n",
      "papi\n",
      "last\n",
      "badatya\n",
      "dob\n",
      "22-05-1996\n"
     ]
    }
   ],
   "source": [
    "for key,value in user_0.items():\n",
    "    print(key)\n",
    "    print(value)"
   ]
  },
  {
   "cell_type": "code",
   "execution_count": 11,
   "metadata": {},
   "outputs": [
    {
     "name": "stdout",
     "output_type": "stream",
     "text": [
      "\n",
      " key:username\n",
      "value:papibadatya96\n",
      "\n",
      " key:first\n",
      "value:papi\n",
      "\n",
      " key:last\n",
      "value:badatya\n",
      "\n",
      " key:dob\n",
      "value:22-05-1996\n"
     ]
    }
   ],
   "source": [
    "for k, v in user_0.items():\n",
    "    print(f\"\\n key:{k}\")\n",
    "    print(f\"value:{v}\")"
   ]
  },
  {
   "cell_type": "code",
   "execution_count": 17,
   "metadata": {},
   "outputs": [
    {
     "name": "stdout",
     "output_type": "stream",
     "text": [
      "{'sam': 'python', 'shafi': 'c', 'ram': 'c++', 'pradeepa': 'swift', 'ritu': 'java'}\n"
     ]
    }
   ],
   "source": [
    "print(favorite_language)"
   ]
  },
  {
   "cell_type": "code",
   "execution_count": 18,
   "metadata": {},
   "outputs": [
    {
     "name": "stdout",
     "output_type": "stream",
     "text": [
      "Sam's favorite language is Python\n",
      "Shafi's favorite language is C\n",
      "Ram's favorite language is C++\n",
      "Pradeepa's favorite language is Swift\n",
      "Ritu's favorite language is Java\n"
     ]
    }
   ],
   "source": [
    "for name, language in favorite_language.items():\n",
    "    print(f\"{name.title()}'s favorite language is {language.title()}\")"
   ]
  },
  {
   "cell_type": "code",
   "execution_count": null,
   "metadata": {},
   "outputs": [],
   "source": [
    "looping through all the keys in a dict:"
   ]
  },
  {
   "cell_type": "code",
   "execution_count": 19,
   "metadata": {},
   "outputs": [
    {
     "name": "stdout",
     "output_type": "stream",
     "text": [
      "sam\n",
      "shafi\n",
      "ram\n",
      "pradeepa\n",
      "ritu\n"
     ]
    }
   ],
   "source": [
    "for x in favorite_language.keys():\n",
    "    print(x)"
   ]
  },
  {
   "cell_type": "code",
   "execution_count": 20,
   "metadata": {},
   "outputs": [
    {
     "name": "stdout",
     "output_type": "stream",
     "text": [
      "python\n",
      "c\n",
      "c++\n",
      "swift\n",
      "java\n"
     ]
    }
   ],
   "source": [
    "for y in favorite_language.values():\n",
    "    print(y)"
   ]
  },
  {
   "cell_type": "code",
   "execution_count": null,
   "metadata": {},
   "outputs": [],
   "source": []
  }
 ],
 "metadata": {
  "kernelspec": {
   "display_name": "Python 3",
   "language": "python",
   "name": "python3"
  },
  "language_info": {
   "codemirror_mode": {
    "name": "ipython",
    "version": 3
   },
   "file_extension": ".py",
   "mimetype": "text/x-python",
   "name": "python",
   "nbconvert_exporter": "python",
   "pygments_lexer": "ipython3",
   "version": "3.7.6"
  }
 },
 "nbformat": 4,
 "nbformat_minor": 4
}
